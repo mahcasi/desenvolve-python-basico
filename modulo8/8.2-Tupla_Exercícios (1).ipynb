{
 "cells": [
  {
   "cell_type": "markdown",
   "id": "0d5035b5",
   "metadata": {},
   "source": [
    "# Tupla\n",
    "\n",
    "## Aula 8.2"
   ]
  },
  {
   "cell_type": "markdown",
   "id": "0bdece85",
   "metadata": {},
   "source": [
    "### Q1. \n",
    "\n",
    "Escreva uma função ```calcula_area_perimetro``` que recebe **apenas um parâmetro** ```dimensoes``` e calcula a área e o perímetro a partir das dimensões dadas. \n",
    "- ```dimensoes``` é uma tupla (largura, comprimento) com as dimensões de um terreno retangular\n",
    "- Sua função deve calcular e retornar as seguintes operações\n",
    "   - $area = largura \\times comprimento$\n",
    "   - $perimetro = 2\\times(largura + comprimento)$\n"
   ]
  },
  {
   "cell_type": "code",
   "execution_count": 13,
   "id": "0a258eba",
   "metadata": {},
   "outputs": [],
   "source": [
    "# Implemente aqui a função calcula_area_perimetro\n",
    "def calcula_area_perimetro(dimensoes):\n",
    "    largura, comprimento = dimensoes\n",
    "    area = largura * comprimento\n",
    "    perimetro = 2 * (largura + comprimento)\n",
    "    return area, perimetro"
   ]
  },
  {
   "cell_type": "code",
   "execution_count": 14,
   "id": "e1866c04",
   "metadata": {},
   "outputs": [
    {
     "name": "stdout",
     "output_type": "stream",
     "text": [
      "(35, 24) <class 'tuple'>\n"
     ]
    }
   ],
   "source": [
    "# Complete o exemplo de uso abaixo\n",
    "largura = 5\n",
    "comprimento = 7\n",
    "\n",
    "dimensoes = (largura, comprimento)\n",
    "retorno = calcula_area_perimetro(dimensoes)\n",
    "print(retorno, type(retorno))"
   ]
  },
  {
   "cell_type": "markdown",
   "id": "cbdcb986",
   "metadata": {},
   "source": [
    "### Q2.\n",
    "\n",
    "Dada uma string, imprima todas as vogais que aparecem na string, bem como todos os índices onde elas ocorrem. Para isso, use a função ```enumerate```.\n"
   ]
  },
  {
   "cell_type": "code",
   "execution_count": 15,
   "id": "1f6b1f2d",
   "metadata": {},
   "outputs": [
    {
     "name": "stdout",
     "output_type": "stream",
     "text": [
      "(0, 'O')\n",
      "(1, ' ')\n",
      "(2, 'r')\n",
      "(3, 'a')\n",
      "(4, 't')\n",
      "(5, 'o')\n",
      "(6, ' ')\n",
      "(7, 'r')\n",
      "(8, 'o')\n",
      "(9, 'e')\n",
      "(10, 'u')\n",
      "(11, ' ')\n",
      "(12, 'a')\n",
      "(13, ' ')\n",
      "(14, 'r')\n",
      "(15, 'o')\n",
      "(16, 'u')\n",
      "(17, 'p')\n",
      "(18, 'a')\n",
      "(19, ' ')\n",
      "(20, 'd')\n",
      "(21, 'a')\n",
      "(22, ' ')\n",
      "(23, 'A')\n",
      "(24, 'l')\n",
      "(25, 'i')\n",
      "(26, 'c')\n",
      "(27, 'e')\n"
     ]
    }
   ],
   "source": [
    "frase = \"O rato roeu a roupa da Alice\"\n",
    "\n",
    "for tup in enumerate(frase):\n",
    "    if letra.lower() in \"aeiou\":\n",
    "        print(tup)"
   ]
  },
  {
   "cell_type": "markdown",
   "id": "8d46663f",
   "metadata": {},
   "source": [
    "### Q3.\n",
    "\n",
    "Escreva uma função em Python chamada ```ordenar_tuplas``` que recebe uma lista de tuplas, cada uma contendo o nome de um aluno e sua respectiva média, e retorna uma nova lista ordenada em ordem decrescente de médias."
   ]
  },
  {
   "cell_type": "code",
   "execution_count": 33,
   "id": "469f2e6e",
   "metadata": {},
   "outputs": [],
   "source": [
    "# Implemente aqui a função ordenar_tuplas\n",
    "def ordenar_tuplas(alunos_notas):\n",
    "    resultado = sorted(alunos_notas, key=lambda tupla: tupla[1], reverse=True)\n",
    "    return resultado"
   ]
  },
  {
   "cell_type": "code",
   "execution_count": 34,
   "id": "1972c62b",
   "metadata": {},
   "outputs": [
    {
     "name": "stdout",
     "output_type": "stream",
     "text": [
      "[('Charlie', 9.0), ('David', 8.8), ('Alice', 8.5), ('Bob', 7.2)]\n"
     ]
    }
   ],
   "source": [
    "# Exemplo de uso:\n",
    "alunos_notas = [('Alice', 8.5), ('Bob', 7.2), ('Charlie', 9.0), ('David', 8.8)]\n",
    "resultado = ordenar_tuplas(alunos_notas)\n",
    "print(resultado)\n",
    "# Saída esperada: [('Charlie', 9.0), ('David', 8.8), ('Alice', 8.5), ('Bob', 7.2)]"
   ]
  },
  {
   "cell_type": "markdown",
   "id": "e0268fae",
   "metadata": {},
   "source": [
    "### Q4.\n",
    "\n",
    "Escreva uma função em Python chamada ```comprimir_tuplas``` que recebe uma lista de tuplas, cada uma contendo uma palavra e um número, e retorna uma nova lista de tuplas onde palavras idênticas são agrupadas e seus números são somados.\n",
    "\n"
   ]
  },
  {
   "cell_type": "code",
   "execution_count": 21,
   "id": "30a221f3",
   "metadata": {},
   "outputs": [],
   "source": [
    "# Implemente aqui a função comprimir_tuplas\n",
    "def comprimir_tuplas(tuplas):\n",
    "    # Dicionário para armazenar contagens de palavras\n",
    "    contagem = {}\n",
    "    \n",
    "    # Itera sobre cada tupla (palavra, número)\n",
    "    for palavra, numero in tuplas:\n",
    "        if palavra in contagem:\n",
    "            contagem[palavra] += numero\n",
    "        else:\n",
    "            contagem[palavra] = numero\n",
    "    \n",
    "    # Converte o dicionário de volta para uma lista de tuplas\n",
    "    resultado = [(palavra, contagem[palavra]) for palavra in contagem]\n",
    "    \n",
    "    return resultado"
   ]
  },
  {
   "cell_type": "code",
   "execution_count": 22,
   "id": "80972bac",
   "metadata": {},
   "outputs": [
    {
     "name": "stdout",
     "output_type": "stream",
     "text": [
      "[('maçã', 8), ('banana', 5), ('laranja', 1)]\n"
     ]
    }
   ],
   "source": [
    "# Exemplo de uso:\n",
    "tuplas_originais = [('maçã', 3), ('banana', 2), ('maçã', 5), ('laranja', 1), ('banana', 3)]\n",
    "resultado = comprimir_tuplas(tuplas_originais)\n",
    "print(resultado)\n",
    "# Saída esperada: [('maçã', 8), ('banana', 5), ('laranja', 1)]"
   ]
  },
  {
   "cell_type": "markdown",
   "id": "649a5082",
   "metadata": {},
   "source": [
    "### Q5. \n",
    "\n",
    "- Escreva um script que peça o nome e a idade de todos na fila de uma balada. Crie uma lista de tuplas com os pares ```(nome, idade)``` de cada um. \n",
    "- Em seguida crie e imprima duas tuplas apenas com os nomes, uma com os menores de idade que não poderão entrar, e uma com os maiores de idade (```idade >= 18```). \n",
    "\n"
   ]
  },
  {
   "cell_type": "code",
   "execution_count": 20,
   "id": "47cb0573",
   "metadata": {},
   "outputs": [
    {
     "name": "stdin",
     "output_type": "stream",
     "text": [
      "Digite o nome da pessoa (ou 'fim' para encerrar):  mateus\n",
      "Digite a idade de mateus:  24\n",
      "Digite o nome da pessoa (ou 'fim' para encerrar):  lorena\n",
      "Digite a idade de lorena:  21\n",
      "Digite o nome da pessoa (ou 'fim' para encerrar):  gabriel\n",
      "Digite a idade de gabriel:  16\n",
      "Digite o nome da pessoa (ou 'fim' para encerrar):  isadora\n",
      "Digite a idade de isadora:  18\n",
      "Digite o nome da pessoa (ou 'fim' para encerrar):  sofia\n",
      "Digite a idade de sofia:  7\n",
      "Digite o nome da pessoa (ou 'fim' para encerrar):  fim\n"
     ]
    },
    {
     "name": "stdout",
     "output_type": "stream",
     "text": [
      "\n",
      "Lista de tuplas (nome, idade) da fila da balada:\n",
      "[('mateus', 24), ('lorena', 21), ('gabriel', 16), ('isadora', 18), ('sofia', 7)]\n",
      "\n",
      "Nomes dos menores de idade (idade < 18):\n",
      "gabriel\n",
      "sofia\n",
      "\n",
      "Nomes dos maiores de idade (idade >= 18):\n",
      "mateus\n",
      "lorena\n",
      "isadora\n"
     ]
    }
   ],
   "source": [
    "## Implemente aqui sua solução\n",
    "fila_balada = []\n",
    "\n",
    "# Loop para coletar nome e idade de cada pessoa na fila\n",
    "while True:\n",
    "    nome = input(\"Digite o nome da pessoa (ou 'fim' para encerrar): \")\n",
    "    if nome.lower() == 'fim':\n",
    "        break\n",
    "    idade = int(input(\"Digite a idade de {}: \".format(nome)))\n",
    "    fila_balada.append((nome, idade))\n",
    "\n",
    "nomes_menores_idade = tuple(nome for nome, idade in fila_balada if idade < 18)\n",
    "nomes_maiores_idade = tuple(nome for nome, idade in fila_balada if idade >= 18)\n",
    "\n",
    "print(\"\\nNomes dos menores de idade (idade < 18):\")\n",
    "for nome in nomes_menores_idade:\n",
    "    print(nome)\n",
    "\n",
    "print(\"\\nNomes dos maiores de idade (idade >= 18):\")\n",
    "for nome in nomes_maiores_idade:\n",
    "    print(nome)"
   ]
  },
  {
   "cell_type": "code",
   "execution_count": null,
   "id": "d6d22102-b649-4aa1-9439-061c40983f97",
   "metadata": {},
   "outputs": [],
   "source": []
  }
 ],
 "metadata": {
  "kernelspec": {
   "display_name": "Python 3 (ipykernel)",
   "language": "python",
   "name": "python3"
  },
  "language_info": {
   "codemirror_mode": {
    "name": "ipython",
    "version": 3
   },
   "file_extension": ".py",
   "mimetype": "text/x-python",
   "name": "python",
   "nbconvert_exporter": "python",
   "pygments_lexer": "ipython3",
   "version": "3.12.4"
  }
 },
 "nbformat": 4,
 "nbformat_minor": 5
}
